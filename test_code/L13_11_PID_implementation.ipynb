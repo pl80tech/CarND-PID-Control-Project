{
 "cells": [
  {
   "cell_type": "code",
   "execution_count": 1,
   "metadata": {},
   "outputs": [],
   "source": [
    "# -----------\n",
    "# User Instructions\n",
    "#\n",
    "# Implement a P controller by running 100 iterations\n",
    "# of robot motion. The steering angle should be set\n",
    "# by the parameter tau so that:\n",
    "#\n",
    "# steering = -tau_p * CTE - tau_d * diff_CTE - tau_i * int_CTE\n",
    "#\n",
    "# where the integrated crosstrack error (int_CTE) is\n",
    "# the sum of all the previous crosstrack errors.\n",
    "# This term works to cancel out steering drift.\n",
    "#\n",
    "# Only modify code at the bottom! Look for the TODO.\n",
    "# ------------\n",
    "\n",
    "import random\n",
    "import numpy as np\n",
    "import matplotlib.pyplot as plt\n",
    "%matplotlib inline\n",
    "\n",
    "# ------------------------------------------------\n",
    "# \n",
    "# this is the Robot class\n",
    "#\n",
    "\n",
    "class Robot(object):\n",
    "    def __init__(self, length=20.0):\n",
    "        \"\"\"\n",
    "        Creates robot and initializes location/orientation to 0, 0, 0.\n",
    "        \"\"\"\n",
    "        self.x = 0.0\n",
    "        self.y = 0.0\n",
    "        self.orientation = 0.0\n",
    "        self.length = length\n",
    "        self.steering_noise = 0.0\n",
    "        self.distance_noise = 0.0\n",
    "        self.steering_drift = 0.0\n",
    "\n",
    "    def set(self, x, y, orientation):\n",
    "        \"\"\"\n",
    "        Sets a robot coordinate.\n",
    "        \"\"\"\n",
    "        self.x = x\n",
    "        self.y = y\n",
    "        self.orientation = orientation % (2.0 * np.pi)\n",
    "\n",
    "    def set_noise(self, steering_noise, distance_noise):\n",
    "        \"\"\"\n",
    "        Sets the noise parameters.\n",
    "        \"\"\"\n",
    "        # makes it possible to change the noise parameters\n",
    "        # this is often useful in particle filters\n",
    "        self.steering_noise = steering_noise\n",
    "        self.distance_noise = distance_noise\n",
    "\n",
    "    def set_steering_drift(self, drift):\n",
    "        \"\"\"\n",
    "        Sets the systematical steering drift parameter\n",
    "        \"\"\"\n",
    "        self.steering_drift = drift\n",
    "\n",
    "    def move(self, steering, distance, tolerance=0.001, max_steering_angle=np.pi / 4.0):\n",
    "        \"\"\"\n",
    "        steering = front wheel steering angle, limited by max_steering_angle\n",
    "        distance = total distance driven, most be non-negative\n",
    "        \"\"\"\n",
    "        if steering > max_steering_angle:\n",
    "            steering = max_steering_angle\n",
    "        if steering < -max_steering_angle:\n",
    "            steering = -max_steering_angle\n",
    "        if distance < 0.0:\n",
    "            distance = 0.0\n",
    "\n",
    "        # apply noise\n",
    "        steering2 = random.gauss(steering, self.steering_noise)\n",
    "        distance2 = random.gauss(distance, self.distance_noise)\n",
    "\n",
    "        # apply steering drift\n",
    "        steering2 += self.steering_drift\n",
    "\n",
    "        # Execute motion\n",
    "        turn = np.tan(steering2) * distance2 / self.length\n",
    "\n",
    "        if abs(turn) < tolerance:\n",
    "            # approximate by straight line motion\n",
    "            self.x += distance2 * np.cos(self.orientation)\n",
    "            self.y += distance2 * np.sin(self.orientation)\n",
    "            self.orientation = (self.orientation + turn) % (2.0 * np.pi)\n",
    "        else:\n",
    "            # approximate bicycle model for motion\n",
    "            radius = distance2 / turn\n",
    "            cx = self.x - (np.sin(self.orientation) * radius)\n",
    "            cy = self.y + (np.cos(self.orientation) * radius)\n",
    "            self.orientation = (self.orientation + turn) % (2.0 * np.pi)\n",
    "            self.x = cx + (np.sin(self.orientation) * radius)\n",
    "            self.y = cy - (np.cos(self.orientation) * radius)\n",
    "\n",
    "    def __repr__(self):\n",
    "        return '[x=%.5f y=%.5f orient=%.5f]' % (self.x, self.y, self.orientation)"
   ]
  },
  {
   "cell_type": "code",
   "execution_count": 2,
   "metadata": {},
   "outputs": [],
   "source": [
    "############## ADD / MODIFY CODE BELOW ####################\n",
    "# ------------------------------------------------------------------------\n",
    "#\n",
    "# run - does a single control run\n",
    "def run(robot, tau_p, tau_d, tau_i, n=100, speed=1.0):\n",
    "    x_trajectory = []\n",
    "    y_trajectory = []\n",
    "    # TODO: your code here\n",
    "    prev_cte = robot.y\n",
    "    int_cte = 0\n",
    "    for i in range(n):\n",
    "        cte = robot.y\n",
    "        diff_cte = cte - prev_cte\n",
    "        prev_cte = cte\n",
    "        int_cte += cte\n",
    "        steer = -tau_p * cte - tau_d * diff_cte - tau_i * int_cte\n",
    "        robot.move(steer, speed)\n",
    "        # Print some debug messages\n",
    "        if i < 20:\n",
    "            print(robot.__repr__())\n",
    "        x_trajectory.append(robot.x)\n",
    "        y_trajectory.append(robot.y)\n",
    "    return x_trajectory, y_trajectory"
   ]
  },
  {
   "cell_type": "code",
   "execution_count": 3,
   "metadata": {},
   "outputs": [
    {
     "name": "stdout",
     "output_type": "stream",
     "text": [
      "[x=0.99998 y=0.99483 orient=6.27284]\n",
      "[x=1.99986 y=0.97964 orient=6.26315]\n",
      "[x=2.99957 y=0.95552 orient=6.25497]\n",
      "[x=3.99907 y=0.92392 orient=6.24820]\n",
      "[x=4.99836 y=0.88620 orient=6.24271]\n",
      "[x=5.99744 y=0.84356 orient=6.23835]\n",
      "[x=6.99636 y=0.79706 orient=6.23499]\n",
      "[x=7.99514 y=0.74764 orient=6.23251]\n",
      "[x=8.99381 y=0.69615 orient=6.23082]\n",
      "[x=9.99242 y=0.64331 orient=6.22982]\n",
      "[x=10.99099 y=0.58997 orient=6.22942]\n",
      "[x=11.98955 y=0.53623 orient=6.22951]\n",
      "[x=12.98811 y=0.48258 orient=6.23009]\n",
      "[x=13.98672 y=0.43001 orient=6.23110]\n",
      "[x=14.98540 y=0.37858 orient=6.23238]\n",
      "[x=15.98415 y=0.32857 orient=6.23393]\n",
      "[x=16.98298 y=0.28023 orient=6.23570]\n",
      "[x=17.98190 y=0.23374 orient=6.23766]\n",
      "[x=18.98091 y=0.18927 orient=6.23975]\n",
      "[x=19.98001 y=0.14694 orient=6.24194]\n"
     ]
    }
   ],
   "source": [
    "robot = Robot()\n",
    "robot.set(0, 1, 0)\n",
    "\n",
    "x_trajectory, y_trajectory = run(robot, 0.2, 3.0, 0.004)\n",
    "n = len(x_trajectory)"
   ]
  },
  {
   "cell_type": "code",
   "execution_count": 4,
   "metadata": {},
   "outputs": [],
   "source": [
    "# P controller\n",
    "def run_p(robot, tau, n=100, speed=1.0):\n",
    "    x_trajectory = []\n",
    "    y_trajectory = []\n",
    "    for i in range(n):\n",
    "        cte = robot.y\n",
    "        steer = -tau * cte\n",
    "        robot.move(steer, speed)\n",
    "        # Print some debug messages\n",
    "        #if i < 20:\n",
    "        #    print(robot.__repr__())\n",
    "        x_trajectory.append(robot.x)\n",
    "        y_trajectory.append(robot.y)\n",
    "    return x_trajectory, y_trajectory\n",
    "\n",
    "# PD Controller\n",
    "def run(robot, tau_p, tau_d, n=100, speed=1.0):\n",
    "    x_trajectory = []\n",
    "    y_trajectory = []\n",
    "    # TODO: your code here\n",
    "    x_trajectory = []\n",
    "    y_trajectory = []\n",
    "    prev_cte = robot.y\n",
    "    for i in range(n):\n",
    "        cte = robot.y\n",
    "        diff_cte = cte - prev_cte\n",
    "        prev_cte = cte\n",
    "        steer = -tau_p * cte - tau_d * diff_cte\n",
    "        robot.move(steer, speed)\n",
    "        # Print some debug messages\n",
    "        #if i < 20:\n",
    "        #    print(robot.__repr__())\n",
    "        x_trajectory.append(robot.x)\n",
    "        y_trajectory.append(robot.y)\n",
    "    return x_trajectory, y_trajectory"
   ]
  },
  {
   "cell_type": "code",
   "execution_count": 5,
   "metadata": {},
   "outputs": [
    {
     "name": "stdout",
     "output_type": "stream",
     "text": [
      "------------ P Controller --------------\n",
      "------------ PD Controller -------------\n"
     ]
    }
   ],
   "source": [
    "# P Controller\n",
    "print(\"------------ P Controller --------------\")\n",
    "robot_p = Robot()\n",
    "robot_p.set(0, 1, 0)\n",
    "x_trajectory_p, y_trajectory_p = run_p(robot_p, 0.2)\n",
    "n_p = len(x_trajectory_p)\n",
    "\n",
    "# PD Controller\n",
    "print(\"------------ PD Controller -------------\")\n",
    "robot_pd = Robot()\n",
    "robot_pd.set(0, 1, 0)\n",
    "x_trajectory_pd, y_trajectory_pd = run(robot_pd, 0.2, 3.0)\n",
    "n_pd = len(x_trajectory_pd)"
   ]
  },
  {
   "cell_type": "code",
   "execution_count": 6,
   "metadata": {},
   "outputs": [
    {
     "data": {
      "text/plain": [
       "<matplotlib.legend.Legend at 0x7f846fa4eeb8>"
      ]
     },
     "execution_count": 6,
     "metadata": {},
     "output_type": "execute_result"
    },
    {
     "data": {
      "image/png": "[encoded data removed]",
      "text/plain": [
       "<Figure size 864x576 with 1 Axes>"
      ]
     },
     "metadata": {
      "needs_background": "light"
     },
     "output_type": "display_data"
    }
   ],
   "source": [
    "fig, ax = plt.subplots(1, 1, figsize=(12, 8))\n",
    "ax.plot(x_trajectory_p, y_trajectory_p, 'b', label='P controller')\n",
    "ax.plot(x_trajectory_pd, y_trajectory_pd, 'g', label='PD controller')\n",
    "ax.plot(x_trajectory, y_trajectory, 'c', label='PID controller')\n",
    "ax.plot(x_trajectory, np.zeros(n), 'r', label='reference')\n",
    "ax.legend(loc='upper right')"
   ]
  }
 ],
 "metadata": {
  "kernelspec": {
   "display_name": "Python 3",
   "language": "python",
   "name": "python3"
  },
  "language_info": {
   "codemirror_mode": {
    "name": "ipython",
    "version": 3
   },
   "file_extension": ".py",
   "mimetype": "text/x-python",
   "name": "python",
   "nbconvert_exporter": "python",
   "pygments_lexer": "ipython3",
   "version": "3.5.2"
  },
  "widgets": {
   "state": {},
   "version": "1.1.2"
  }
 },
 "nbformat": 4,
 "nbformat_minor": 2
}
